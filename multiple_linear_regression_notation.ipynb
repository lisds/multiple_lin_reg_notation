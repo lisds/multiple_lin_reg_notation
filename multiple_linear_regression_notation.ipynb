{
 "cells": [
  {
   "cell_type": "markdown",
   "id": "e2d3967c",
   "metadata": {},
   "source": [
    "# Multiple linear regression notation exercise"
   ]
  },
  {
   "cell_type": "code",
   "execution_count": null,
   "id": "498c7be3",
   "metadata": {},
   "outputs": [],
   "source": [
    "# please run this cell\n",
    "import numpy as np\n",
    "import pandas as pd\n",
    "import matplotlib.pyplot as plt\n",
    "\n",
    "# For tests, please ignore.\n",
    "import comp_func\n",
    "\n",
    "# For displaying arrays etc in mathematical form.\n",
    "from jupyprint import jupyprint, arraytex\n",
    "\n",
    "# this imports the machinery for marking answers to questions\n",
    "from client.api.notebook import Notebook\n",
    "\n",
    "ok = Notebook('multiple_linear_regression_notation.ok')"
   ]
  },
  {
   "cell_type": "markdown",
   "id": "78b3da5e",
   "metadata": {},
   "source": [
    "## Question 1\n",
    "\n",
    "Let's assume we are fitting a linear regression model with three predictor\n",
    "variables (vectors), to a dataset with 30 observational units.\n",
    "\n",
    "What would be the meaning of this notation (assume that it appears within a vector)?:\n",
    "\n",
    "$\\Large x_{1_1}$\n",
    "\n",
    "Please set the variable `my_Q1_answer` in the cell below to the number\n",
    "corresponding to the statement that you think is most correct (e.g. if you think the\n",
    "answer is statement 1, `set my_Q1_answer` to equal 1):\n",
    "\n",
    "`1` - it is an element in the outcome variable vector.\n",
    "\n",
    "`2` - it is an element of a predictor vector.\n",
    "\n",
    "`3` - it is the 11th element of the first predictor vector.\n",
    "\n",
    "`4` - it is the intercept.\n",
    "\n",
    "`5` - it is the 1st element of the 1st predictor vector."
   ]
  },
  {
   "cell_type": "code",
   "execution_count": null,
   "id": "c3b57b79",
   "metadata": {},
   "outputs": [],
   "source": [
    "#- set `my_Q1_answer` to your answer\n",
    "my_Q1_answer = ..."
   ]
  },
  {
   "cell_type": "code",
   "execution_count": null,
   "id": "292d84c5",
   "metadata": {},
   "outputs": [],
   "source": [
    "# run this cell to check your answer\n",
    "_ = ok.grade('q1')"
   ]
  },
  {
   "cell_type": "markdown",
   "id": "fdf91ddc",
   "metadata": {},
   "source": [
    "## Question 1b\n",
    "\n",
    "Let's imagine we are fitting a linear regression model with five predictor\n",
    "vectors (variables), to a dataset with 40 observational units.\n",
    "\n",
    "What would be the meaning of this notation (assume that it appears within a vector)?: \n",
    "\n",
    "$\\Large x_{3_{15}}$\n",
    "\n",
    "Please set the variable `my_Q1b_answer` in the cell below to the number\n",
    "corresponding to the statement that you think is most correct (e.g. if you think the\n",
    "answer is statement 1, `set my_Q1b_answer` to equal 1):\n",
    "\n",
    "`1` - it is the 315th element of the first predictor vector\n",
    "\n",
    "`2` - it is the 315th element of the third predictor vector\n",
    "\n",
    "`3` - it is the 15th element of the third predictor vector\n",
    "\n",
    "`4` - it is meaningless\n",
    "\n",
    "`5` - this is the 3rd element of the fifth predictor vector"
   ]
  },
  {
   "cell_type": "code",
   "execution_count": null,
   "id": "ee06ca51",
   "metadata": {},
   "outputs": [],
   "source": [
    "#- set `my_Q1b_answer` to your answer\n",
    "my_Q1b_answer = ..."
   ]
  },
  {
   "cell_type": "code",
   "execution_count": null,
   "id": "96fdc3f3",
   "metadata": {},
   "outputs": [],
   "source": [
    "# run this cell to check your answer\n",
    "_ = ok.grade('q1b')"
   ]
  },
  {
   "cell_type": "markdown",
   "id": "14abb8cf",
   "metadata": {},
   "source": [
    "## Question 1c\n",
    "\n",
    "Let's imagine we were fitting a linear regression model with 6 predictor variables, to a dataset with 560 observational units.\n",
    "\n",
    "What would be the meaning of this notation (assume that it appears within a vector)?: \n",
    "\n",
    "$\\Large x_{5_{n}}$\n",
    "\n",
    "Please set the variable `my_Q1c_answer` in the cell below to the number\n",
    "corresponding to the statement that you think is most correct (e.g. if you think the\n",
    "answer is statement 1, `set my_Q1c_answer` to equal 1):\n",
    "\n",
    "`1` - it is the 5th element of the first predictor raised to the power of the number $n$\n",
    "\n",
    "`2` - it is the 560th element of the fifth predictor vector\n",
    "\n",
    "`3` - it is the first element of the fourth predictor vector\n",
    "\n",
    "`4` - it is the $x$ vector multiplied by 5 * $n$\n",
    "\n",
    "`5` - it is the first element of the fifth predictor vector"
   ]
  },
  {
   "cell_type": "code",
   "execution_count": null,
   "id": "170bb4a7",
   "metadata": {},
   "outputs": [],
   "source": [
    "#- set `my_Q1c_answer` to your answer\n",
    "my_Q1c_answer = ..."
   ]
  },
  {
   "cell_type": "code",
   "execution_count": null,
   "id": "47271018",
   "metadata": {},
   "outputs": [],
   "source": [
    "# run this cell to check your answer\n",
    "_ = ok.grade('q1c')"
   ]
  },
  {
   "cell_type": "markdown",
   "id": "6ace978f",
   "metadata": {},
   "source": [
    "## Question 2\n",
    "\n",
    "Let's say we had a dataset with the scores of 10 people on the following variables:\n",
    "\n",
    "* `freq_outrageous` - the average frequency of outrageous statements a person makes in social situations, per social situation\n",
    "* `psychopathy` - the psychopathy score of each person\n",
    "* `forum_hours` - the number of hours per week the person spends on obscure\n",
    "  online forums, arguing with strangers\n",
    "\n",
    "We want to fit the following regression model:\n",
    "\n",
    "`freq_outrageous` =  $b_1 * $ `psychopathy` + $b_2 * $ `forum_hours` + $ \\text{c} + \\vec{\\varepsilon} $\n",
    "\n",
    "Which vector is our $x_1$ vector?\n",
    "\n",
    "Please set the variable `my_Q2_answer` in the cell below to the number\n",
    "corresponding to the statement that you think is most correct (e.g. if you think the\n",
    "answer is statement 1, `set my_Q2_answer` to equal 1):\n",
    "\n",
    "`1` - `freq_outrageous` is our $x_1$ vector, because it is the outcome variable\n",
    "\n",
    "`2` - there is no $x_1$ vector in this model\n",
    "\n",
    "`3` - `psychopathy` is our $x_1$ vector, because it is the first predictor variable\n",
    "\n",
    "`4` - `forum_hours` is our $x_1$ vector\n",
    "\n",
    "`5` - $b_2$ is our $x_1$ vector"
   ]
  },
  {
   "cell_type": "code",
   "execution_count": null,
   "id": "ad0d3983",
   "metadata": {},
   "outputs": [],
   "source": [
    "#- set `my_Q2_answer` to your answer\n",
    "my_Q2_answer = ..."
   ]
  },
  {
   "cell_type": "code",
   "execution_count": null,
   "id": "e8263608",
   "metadata": {},
   "outputs": [],
   "source": [
    "# run this cell to check your answer\n",
    "_ = ok.grade('q2')"
   ]
  },
  {
   "cell_type": "markdown",
   "id": "46b9b74c",
   "metadata": {},
   "source": [
    "## Question 2b\n",
    "\n",
    "For the same model as the previous question:\n",
    "\n",
    "`freq_outrageous` =  $b_1 * $ `psychopathy` + $b_2 * $ `forum_hours` + $ \\text{c} + \\vec{\\varepsilon} $\n",
    "\n",
    "What is our $x_2$ vector? \n",
    "\n",
    "`1` - the `psychopathy` vector\n",
    "\n",
    "`2` -  the $ \\vec{\\varepsilon} $ vector\n",
    "\n",
    "`3` - $c$\n",
    "\n",
    "`4` - the $b_1$ vector\n",
    "\n",
    "`5` - the `forum_hours` vector"
   ]
  },
  {
   "cell_type": "code",
   "execution_count": null,
   "id": "f7cf895f",
   "metadata": {},
   "outputs": [],
   "source": [
    "#- set `my_Q2b_answer` to your answer\n",
    "my_Q2b_answer = ..."
   ]
  },
  {
   "cell_type": "code",
   "execution_count": null,
   "id": "73e858bd",
   "metadata": {},
   "outputs": [],
   "source": [
    "# run this cell to check your answer\n",
    "_ = ok.grade('q2b')"
   ]
  },
  {
   "cell_type": "markdown",
   "id": "bb7aedcb",
   "metadata": {},
   "source": [
    "## Question 3\n",
    "\n",
    "For the same model as the previous question:\n",
    "\n",
    "`freq_outrageous` =  $b_1 * $ `psychopathy` + $b_2 * $ `forum_hours` + $ \\text{c} + \\vec{\\varepsilon} $\n",
    "\n",
    "What is $b_2$? \n",
    "\n",
    "`1` - it is the intercept\n",
    "\n",
    "`2` - it is the slope\n",
    "\n",
    "`3` - it is the slope of the first predictor variable\n",
    "\n",
    "`4` - it is the error vector\n",
    "\n",
    "`5` - it is the slope of the second predictor variable"
   ]
  },
  {
   "cell_type": "code",
   "execution_count": null,
   "id": "3a758c6b",
   "metadata": {},
   "outputs": [],
   "source": [
    "#- set `my_Q3_answer` to your answer\n",
    "my_Q3_answer = ..."
   ]
  },
  {
   "cell_type": "code",
   "execution_count": null,
   "id": "480af763",
   "metadata": {},
   "outputs": [],
   "source": [
    "# run this cell to check your answer\n",
    "_ = ok.grade('q3')"
   ]
  },
  {
   "cell_type": "markdown",
   "id": "69850016",
   "metadata": {},
   "source": [
    "## Question 4\n",
    "\n",
    "If we were fitting a linear regression model with 5 predictor variables, which one of these formulas could correctly describe the model?\n",
    "\n",
    "Please set the variable `my_Q4_answer` in the cell below to the string\n",
    "corresponding to the formula you think is correct (e.g. if you think the\n",
    "answer is `Formula_A`, `set my_Q4_answer` to equal the string `\"Formula_A\"` - be sure to use the correct capitalization!):\n",
    "\n",
    "`Formula_A` : $ \\vec{y} = b_1 \\vec{x_1} + b_2 \\vec{x_2} + \\text{c} + \\vec{\\varepsilon} $\n",
    "\n",
    "\n",
    "`Formula_B` : $ \\vec{y} = b_1 \\vec{x_1} + b_2 \\vec{x_2} + \\vec{\\varepsilon} $\n",
    "\n",
    "\n",
    "`Formula_C` : $ \\vec{y} = b_1 \\vec{x_1} + b_2 \\vec{x_2} +  b_3 \\vec{x_3} + b_4 \\vec{x_4} + b_5 \\vec{x_5} + b_6 \\vec{x_6} \\text{c} + \\vec{\\varepsilon} $\n",
    "\n",
    "\n",
    "`Formula_D` : $ \\vec{y} = b_1 \\vec{x_1} + \\text{c} + \\vec{\\varepsilon} $\n",
    "\n",
    "\n",
    "`Formula_E` : $ \\vec{y} = b_1 \\vec{x_1} + b_2 \\vec{x_2} +  b_3 \\vec{x_3} + b_4 \\vec{x_4} + b_5 \\vec{x_5} + \\text{c} + \\vec{\\varepsilon} $"
   ]
  },
  {
   "cell_type": "code",
   "execution_count": null,
   "id": "5fb9ae28",
   "metadata": {},
   "outputs": [],
   "source": [
    "#- set `my_Q4_answer` to your answer\n",
    "my_Q4_answer = \"your_string_here\""
   ]
  },
  {
   "cell_type": "code",
   "execution_count": null,
   "id": "60f203ff",
   "metadata": {},
   "outputs": [],
   "source": [
    "# run this cell to check your answer\n",
    "_ = ok.grade('q4')"
   ]
  },
  {
   "cell_type": "markdown",
   "id": "d30d05f8",
   "metadata": {},
   "source": [
    "## Question 5\n",
    "\n",
    "Referring again to our hypothetical dataset with the scores of 10 people on the variables shown below:\n",
    "\n",
    "* `freq_outrageous` - the average frequency of outrageous statements a person makes in social situations, per social situation\n",
    "* `psychopathy` - the psychopathy score of each person\n",
    "* `forum_hours` - the number of hours per week the person spends on obscure\n",
    "  online forums, arguing with strangers\n",
    "\n",
    "Assuming we want to fit a linear regression model with two predictor variables (of the form of the ones we've seen on the textbook page), which one of these formulas correctly describes our model, for this dataset?\n",
    "\n",
    "Please set the variable `my_Q5_answer` in the cell below to the number\n",
    "corresponding to the formula you think is correct (e.g. if you think the\n",
    "answer is `Formula_A`, `set my_Q5_answer` to equal the string `\"Formula_A\"` - be sure to use the correct capitalization!):\n",
    "\n",
    "`Formula_A` : $\\vec{\\varepsilon}= \\begin{bmatrix}\n",
    "           y_1 - \\hat{y}_1 \\\\\n",
    "           y_2 - \\hat{y}_2 \\\\\n",
    "           \\vdots \\\\\n",
    "           y_n - \\hat{y}_n\n",
    "         \\end{bmatrix}  $\n",
    "\n",
    "`Formula_B` : $\\vec{\\hat{y}} = b_1 * \\vec{x}  +   \\text{c} $\n",
    "\n",
    "\n",
    "`Formula_C` : $\\begin{bmatrix}{} \\text{$y_{1}$} \\\\ \\text{$y_{2}$} \\\\ \\text{$y_{3}$} \\\\ \\text{$y_{4}$} \\\\ \\text{$y_{5}$} \\\\ \\text{$y_{6}$} \\\\ \\text{$y_{7}$} \\\\ \\text{$y_{8}$} \\\\ \\text{$y_{9}$} \\\\ \\text{$y_{10}$} \\\\ \\text{$y_{11}$} \\\\ \\text{$y_{12}$} \\\\ \\text{$y_{13}$} \\\\ \\text{$y_{14}$} \\\\ \\text{$y_{15}$} \\\\ \\end{bmatrix} = b_1 * \\begin{bmatrix}{} \\text{$x_{1_1}$} \\\\ \\text{$x_{1_2}$} \\\\ \\text{$x_{1_3}$} \\\\ \\text{$x_{1_4}$} \\\\ \\text{$x_{1_5}$} \\\\ \\text{$x_{1_6}$} \\\\ \\text{$x_{1_7}$} \\\\ \\text{$x_{1_8}$} \\\\ \\text{$x_{1_9}$} \\\\ \\text{$x_{1_{10}}$} \\\\ \\text{$x_{1_{11}}$} \\\\ \\text{$x_{1_{12}}$} \\\\ \\text{$x_{1_{13}}$} \\\\ \\text{$x_{1_{14}}$} \\\\ \\text{$x_{1_{15}}$} \\\\ \\end{bmatrix} + b_2 *  \\begin{bmatrix}{} \\text{$x_{2_{1}}$} \\\\ \\text{$x_{2_{2}}$} \\\\ \\text{$x_{2_{3}}$} \\\\ \\text{$x_{2_{4}}$} \\\\ \\text{$x_{2_{5}}$} \\\\ \\text{$x_{2_{6}}$} \\\\ \\text{$x_{2_{7}}$} \\\\ \\text{$x_{2_{8}}$} \\\\ \\text{$x_{2_{9}}$} \\\\ \\text{$x_{2_{10}}$} \\\\ \\text{$x_{2_{11}}$} \\\\ \\text{$x_{2_{12}}$} \\\\ \\text{$x_{2_{13}}$} \\\\ \\text{$x_{2_{14}}$} \\\\ \\text{$x_{2_{15}}$} \\\\ \\end{bmatrix}  +c + \\begin{bmatrix}{} \\text{$\\varepsilon_{1}$} \\\\ \\text{$\\varepsilon_{2}$} \\\\ \\text{$\\varepsilon_{3}$} \\\\ \\text{$\\varepsilon_{4}$} \\\\ \\text{$\\varepsilon_{5}$} \\\\ \\text{$\\varepsilon_{6}$} \\\\ \\text{$\\varepsilon_{7}$} \\\\ \\text{$\\varepsilon_{8}$} \\\\ \\text{$\\varepsilon_{9}$} \\\\ \\text{$\\varepsilon_{10}$} \\\\ \\text{$\\varepsilon_{11}$} \\\\ \\text{$\\varepsilon_{12}$} \\\\ \\text{$\\varepsilon_{13}$} \\\\ \\text{$\\varepsilon_{14}$} \\\\ \\text{$\\varepsilon_{15}$} \\\\ \\end{bmatrix}$\n",
    "\n",
    "`Formula_D` : $\\begin{bmatrix}{} \\text{$y_{1}$} \\\\ \\text{$y_{2}$} \\\\ \\text{$y_{3}$} \\\\ \\text{$y_{4}$} \\\\ \\text{$y_{5}$} \\\\ \\text{$y_{6}$} \\\\ \\text{$y_{7}$} \\\\ \\text{$y_{8}$} \\\\ \\text{$y_{9}$} \\\\ \\text{$y_{10}$} \\\\ \\end{bmatrix} = b_1 * \\begin{bmatrix}{} \\text{$x_{1_1}$} \\\\ \\text{$x_{1_2}$} \\\\ \\text{$x_{1_3}$} \\\\ \\text{$x_{1_4}$} \\\\ \\text{$x_{1_5}$} \\\\ \\text{$x_{1_6}$} \\\\ \\text{$x_{1_7}$} \\\\ \\text{$x_{1_8}$} \\\\ \\text{$x_{1_9}$} \\\\ \\text{$x_{1_{10}}$} \\\\ \\end{bmatrix} + b_2 *  \\begin{bmatrix}{} \\text{$x_{2_{1}}$} \\\\ \\text{$x_{2_{2}}$} \\\\ \\text{$x_{2_{3}}$} \\\\ \\text{$x_{2_{4}}$} \\\\ \\text{$x_{2_{5}}$} \\\\ \\text{$x_{2_{6}}$} \\\\ \\text{$x_{2_{7}}$} \\\\ \\text{$x_{2_{8}}$} \\\\ \\text{$x_{2_{9}}$} \\\\ \\text{$x_{2_{10}}$} \\\\ \\end{bmatrix}  +c + \\begin{bmatrix}{} \\text{$\\varepsilon_{1}$} \\\\ \\text{$\\varepsilon_{2}$} \\\\ \\text{$\\varepsilon_{3}$} \\\\ \\text{$\\varepsilon_{4}$} \\\\ \\text{$\\varepsilon_{5}$} \\\\ \\text{$\\varepsilon_{6}$} \\\\ \\text{$\\varepsilon_{7}$} \\\\ \\text{$\\varepsilon_{8}$} \\\\ \\text{$\\varepsilon_{9}$} \\\\ \\text{$\\varepsilon_{10}$} \\\\ \\end{bmatrix}$\n",
    "\n",
    "\n",
    "`Formula_E` : $\\begin{bmatrix}{} \\text{$y_{1}$} \\\\ \\text{$y_{2}$} \\\\ \\text{$y_{3}$} \\\\ \\text{$y_{4}$} \\\\ \\text{$y_{5}$} \\\\ \\text{$y_{6}$} \\\\ \\text{$y_{7}$} \\\\ \\text{$y_{8}$} \\\\ \\text{$y_{9}$} \\\\ \\end{bmatrix} = b_1 * \\begin{bmatrix}{} \\text{$x_{1_1}$} \\\\ \\text{$x_{1_2}$} \\\\ \\text{$x_{1_3}$} \\\\ \\text{$x_{1_4}$} \\\\ \\text{$x_{1_5}$} \\\\ \\text{$x_{1_6}$} \\\\ \\text{$x_{1_7}$} \\\\ \\text{$x_{1_8}$} \\\\ \\text{$x_{1_9}$} \\\\ \\text{$x_{1_{10}}$} \\\\ \\end{bmatrix} + b_2 *  \\begin{bmatrix}{} \\text{$x_{2_{1}}$} \\\\ \\text{$x_{2_{2}}$} \\\\ \\text{$x_{2_{3}}$} \\\\ \\text{$x_{2_{4}}$} \\\\ \\text{$x_{2_{5}}$} \\\\ \\text{$x_{2_{6}}$} \\\\ \\text{$x_{2_{7}}$} \\\\ \\text{$x_{2_{8}}$} \\\\ \\text{$x_{2_{9}}$} \\\\ \\text{$x_{2_{10}}$} \\\\ \\end{bmatrix}  +c + \\begin{bmatrix}{} \\text{$\\varepsilon_{1}$} \\\\ \\text{$\\varepsilon_{2}$} \\\\ \\text{$\\varepsilon_{3}$} \\\\ \\text{$\\varepsilon_{4}$} \\\\ \\text{$\\varepsilon_{5}$} \\\\ \\text{$\\varepsilon_{6}$} \\\\ \\text{$\\varepsilon_{7}$} \\\\ \\text{$\\varepsilon_{8}$} \\\\ \\text{$\\varepsilon_{9}$} \\\\  \\end{bmatrix}$"
   ]
  },
  {
   "cell_type": "code",
   "execution_count": null,
   "id": "f57ef57f",
   "metadata": {},
   "outputs": [],
   "source": [
    "#- set `my_Q5_answer` to your answer\n",
    "my_Q5_answer = \"your_string_here\""
   ]
  },
  {
   "cell_type": "code",
   "execution_count": null,
   "id": "3a03ede6",
   "metadata": {},
   "outputs": [],
   "source": [
    "# run this cell to check your answer\n",
    "_ = ok.grade('q5')"
   ]
  },
  {
   "cell_type": "markdown",
   "id": "14e5b381",
   "metadata": {},
   "source": [
    "## Question 6\n",
    "\n",
    "If we were fitting a linear regression model with 2 predictors to a dataset with 8 observational units, which of these vectors would correctly describe the outcome vector?\n",
    "\n",
    "Please set the variable `my_Q6_answer` in the cell below to the string\n",
    "corresponding to the vector you think is correct (e.g. if you think the\n",
    "answer is `Vector_A`, `set my_Q6_answer` to equal the string `\"Formula_A\"` - be sure to use the correct capitalization!):\n",
    "\n",
    "`Vector_A` : $\\begin{bmatrix}{} \\text{$y_{1}$} \\\\ \\text{$y_{2}$} \\\\ \\text{$y_{3}$} \\\\ \\text{$y_{4}$} \\\\ \\text{$y_{5}$} \\\\ \\text{$y_{6}$} \\\\ \\text{$y_{7}$} \\\\ \\text{$y_{8}$} \\\\ \\end{bmatrix} $\n",
    "\n",
    "`Vector_B` : $ \\begin{bmatrix}{} \\text{$\\varepsilon_{1}$} \\\\ \\text{$\\varepsilon_{2}$} \\\\ \\text{$\\varepsilon_{3}$} \\\\ \\text{$\\varepsilon_{4}$} \\\\ \\text{$\\varepsilon_{5}$}  \\end{bmatrix}$\n",
    "\n",
    "`Vector_C` : $ \\begin{bmatrix} \\hat{y_{1}} \\\\ \\hat{y_{2}} \\\\ \\hat{y_{3}} \\\\ \\hat{y_{4}} \\\\ \\hat{y_{5}} \\\\ \\hat{y_{6}} \\\\ \\hat{y_{7}} \\\\ \\hat{y_{8}} \\\\ \\end{bmatrix}$\n",
    "\n",
    "`Vector_D` : $\\begin{bmatrix}{} \\text{$x_{2_{1}}$} \\\\ \\text{$x_{2_{2}}$} \\\\ \\text{$x_{2_{3}}$} \\\\ \\text{$x_{2_{4}}$} \\\\ \\text{$x_{2_{5}}$} \\\\ \\text{$x_{2_{6}}$} \\\\ \\text{$x_{2_{7}}$} \\\\ \\text{$x_{2_{8}}$} \\\\ \\end{bmatrix}$"
   ]
  },
  {
   "cell_type": "code",
   "execution_count": null,
   "id": "56de8494",
   "metadata": {},
   "outputs": [],
   "source": [
    "#- set `my_Q6_answer` to your answer\n",
    "my_Q6_answer = \"your_string_here\""
   ]
  },
  {
   "cell_type": "code",
   "execution_count": null,
   "id": "c1e29c4e",
   "metadata": {},
   "outputs": [],
   "source": [
    "# run this cell to check your answer\n",
    "_ = ok.grade('q6')"
   ]
  },
  {
   "cell_type": "code",
   "execution_count": null,
   "id": "0eba6785",
   "metadata": {},
   "outputs": [],
   "source": [
    "# For your convenience, you can run this cell to run all the tests at once!\n",
    "import os\n",
    "_ = [ok.grade(q[:-3]) for q in os.listdir(\"tests\") if q.startswith('q')]"
   ]
  }
 ],
 "metadata": {
  "jupytext": {
   "formats": "ipynb,Rmd",
   "text_representation": {
    "extension": ".Rmd",
    "format_name": "rmarkdown",
    "format_version": "1.2",
    "jupytext_version": "1.14.5"
   }
  },
  "kernelspec": {
   "display_name": "Python 3 (ipykernel)",
   "language": "python",
   "name": "python3"
  }
 },
 "nbformat": 4,
 "nbformat_minor": 5
}
